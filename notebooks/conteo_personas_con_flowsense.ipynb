{
 "cells": [
  {
   "cell_type": "code",
   "execution_count": null,
   "metadata": {},
   "outputs": [],
   "source": [
    "#yolov8n.pt\n",
    "#yolov8s.pt\n",
    "#yolov8m.pt\n",
    "#yolov8l.pt\n",
    "#yolov8x.pt"
   ]
  },
  {
   "cell_type": "code",
   "execution_count": 1,
   "metadata": {},
   "outputs": [],
   "source": [
    "import cv2\n",
    "from ultralytics import YOLO"
   ]
  },
  {
   "cell_type": "code",
   "execution_count": 2,
   "metadata": {},
   "outputs": [],
   "source": [
    "#----------------------------------Cargando el modelo nano y los videos\n",
    "model = YOLO('yolov8n.pt')\n",
    "video_path = '/Users/zulybercampos/Documents/Flowsense/videos/Video1.mp4'\n",
    "cap = cv2.VideoCapture(video_path)"
   ]
  },
  {
   "cell_type": "code",
   "execution_count": null,
   "metadata": {},
   "outputs": [],
   "source": [
    "import pandas as pd\n",
    "from datetime import timedelta\n",
    "\n",
    "#------------- Capturando las dimensiones del video\n",
    "frame_height = int(cap.get(cv2.CAP_PROP_FRAME_HEIGHT))\n",
    "frame_width = int(cap.get(cv2.CAP_PROP_FRAME_WIDTH))\n",
    "\n",
    "# La linea vertical estará al 80%\n",
    "line_x = int(frame_width * 0.80)\n",
    "\n",
    "#----------------- Variables como conteo de personas, tracker, posición de la persona\n",
    "person_count = 0\n",
    "tracked_ids = set()\n",
    "last_positions = {}\n",
    "\n",
    "# DataFrame para guardar entradas\n",
    "entradas_df = pd.DataFrame(columns=[\"ID\", \"Tiempo_seg\", \"Tiempo_hhmmss\"])\n",
    "\n",
    "# -----------------------iniciando las iteraciones\n",
    "while True:\n",
    "    ret, frame = cap.read()\n",
    "    if not ret:\n",
    "        break\n",
    "\n",
    "    results = model.track(frame, persist=True)\n",
    "\n",
    "    # Dibujar línea vertical (entrada a la derecha)\n",
    "    cv2.line(frame, (line_x, 150), (line_x, frame_height-50), (0, 255, 0), 3)\n",
    "\n",
    "    if results[0].boxes is not None:\n",
    "        for box in results[0].boxes:\n",
    "            cls = int(box.cls[0])\n",
    "            conf = float(box.conf[0])\n",
    "            if cls == 0 and conf >= 0.6:\n",
    "                # -------------------- Coordenadas de la caja\n",
    "                x1, y1, x2, y2 = box.xyxy[0]\n",
    "                cx, cy = int((x1 + x2) / 2), int((y1 + y2) / 2)  # centro\n",
    "\n",
    "                # -------------------- ID único del tracker\n",
    "                track_id = int(box.id[0]) if box.id is not None else None\n",
    "\n",
    "                # -------------------- Dibujar bounding box\n",
    "                cv2.rectangle(frame, (int(x1), int(y1)), (int(x2), int(y2)), (255, 0, 0), 2)\n",
    "                cv2.putText(frame, f\"ID {track_id} {conf:.2f}\", (int(x1), int(y1) - 10),\n",
    "                            cv2.FONT_HERSHEY_SIMPLEX, 0.6, (255, 255, 255), 2)\n",
    "\n",
    "                # -------------------- Dibujar centro\n",
    "                cv2.circle(frame, (cx, cy), 4, (0, 0, 255), -1)\n",
    "\n",
    "                # ------------------------------ Verificar dirección del cruce\n",
    "                if track_id is not None:\n",
    "                    last_cx = last_positions.get(track_id, None)\n",
    "\n",
    "                    # Estableciendo el conteo para que venga de la derecha\n",
    "                    if last_cx is not None and last_cx > line_x and cx < line_x:\n",
    "                        if track_id not in tracked_ids:\n",
    "                            person_count += 1\n",
    "                            tracked_ids.add(track_id)\n",
    "\n",
    "                            # --- Guardar evento en DataFrame\n",
    "                            tiempo_seg = cap.get(cv2.CAP_PROP_POS_MSEC) / 1000.0\n",
    "                            tiempo_hhmmss = str(timedelta(seconds=int(tiempo_seg)))\n",
    "                            entradas_df.loc[len(entradas_df)] = [track_id, tiempo_seg, tiempo_hhmmss]\n",
    "\n",
    "                    # -------------------------última posición\n",
    "                    last_positions[track_id] = cx\n",
    "\n",
    "    # ------------------------Mostrar contador en pantalla\n",
    "    cv2.putText(frame, f\"Entradas: {person_count}\", (20, 50),\n",
    "                cv2.FONT_HERSHEY_SIMPLEX, 1.2, (0, 255, 255), 2)\n",
    "\n",
    "    # -------------------------------Mostrar frame\n",
    "    cv2.imshow(\"Detección y Tracking\", frame)\n",
    "    key = cv2.waitKey(1) & 0xFF\n",
    "\n",
    "    if key == ord('q'):   # salir\n",
    "        break\n",
    "    elif key == ord('p'): # pausar\n",
    "        print(\"⏸️ Video en pausa. Presiona 'p' para continuar...\")\n",
    "        while True:\n",
    "            pause_key = cv2.waitKey(0) & 0xFF\n",
    "            if pause_key == ord('p'):  # reanudar solo con 'p'\n",
    "                print(\"▶️ Reanudando video...\")\n",
    "                break\n",
    "            elif pause_key == ord('q'):  # salir desde pausa\n",
    "                cap.release()\n",
    "                cv2.destroyAllWindows()\n",
    "                exit()\n",
    "\n",
    "# -------------------- Se guardan los datos\n",
    "cap.release()\n",
    "cv2.destroyAllWindows()\n",
    "entradas_df.to_csv(\"entradas.csv\", index=False)\n",
    "print(\"Datos guardados en entradas.csv\")"
   ]
  },
  {
   "cell_type": "code",
   "execution_count": null,
   "metadata": {},
   "outputs": [
    {
     "ename": "",
     "evalue": "",
     "output_type": "error",
     "traceback": [
      "\u001b[1;31mThe Kernel crashed while executing code in the current cell or a previous cell. \n",
      "\u001b[1;31mPlease review the code in the cell(s) to identify a possible cause of the failure. \n",
      "\u001b[1;31mClick <a href='https://aka.ms/vscodeJupyterKernelCrash'>here</a> for more info. \n",
      "\u001b[1;31mView Jupyter <a href='command:jupyter.viewOutput'>log</a> for further details."
     ]
    }
   ],
   "source": [
    "#cap.release()           \n",
    "#cv2.destroyAllWindows() \n",
    "exit() "
   ]
  },
  {
   "cell_type": "code",
   "execution_count": null,
   "metadata": {},
   "outputs": [],
   "source": []
  }
 ],
 "metadata": {
  "kernelspec": {
   "display_name": "yolov_env",
   "language": "python",
   "name": "python3"
  },
  "language_info": {
   "codemirror_mode": {
    "name": "ipython",
    "version": 3
   },
   "file_extension": ".py",
   "mimetype": "text/x-python",
   "name": "python",
   "nbconvert_exporter": "python",
   "pygments_lexer": "ipython3",
   "version": "3.10.13"
  }
 },
 "nbformat": 4,
 "nbformat_minor": 2
}
